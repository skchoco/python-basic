{
 "cells": [
  {
   "cell_type": "markdown",
   "metadata": {},
   "source": [
    "# 7장 연습문제"
   ]
  },
  {
   "cell_type": "code",
   "execution_count": null,
   "metadata": {},
   "outputs": [],
   "source": [
    "# Q1. ex1\n",
    "def f1(a):\n",
    "    a += 10\n",
    "    print(a, end = ',')\n",
    "a = 10\n",
    "f1(a)\n",
    "print(a)\n",
    "# 나"
   ]
  },
  {
   "cell_type": "code",
   "execution_count": null,
   "metadata": {},
   "outputs": [],
   "source": [
    "# Q3. ex3\n",
    "def num(n):\n",
    "    for i in range(2, n):\n",
    "        state = True\n",
    "        for j in range(2, i):\n",
    "            if i % j == 0:\n",
    "                state = False\n",
    "                break\n",
    "        if state:\n",
    "            print(i, end = ' ')\n",
    "number = int(input('n값을 입력해주세요: '))\n",
    "print('2~20까지의 정수 중 소수: ')\n",
    "num(number)"
   ]
  },
  {
   "cell_type": "code",
   "execution_count": null,
   "metadata": {},
   "outputs": [],
   "source": [
    "# Q5. ex5\n",
    "def numSquare(num):\n",
    "    list_new = []\n",
    "    for i in range(1, num+1):\n",
    "        list_new.append(i**2)\n",
    "        \n",
    "    return list_new\n",
    "\n",
    "n = 5\n",
    "result = numSquare(n)\n",
    "print(result)"
   ]
  },
  {
   "cell_type": "code",
   "execution_count": null,
   "metadata": {},
   "outputs": [],
   "source": [
    "# Q7. ex7\n",
    "def password():\n",
    "    alpha = 0\n",
    "    digit = 0\n",
    "    password = input('비밀번호: ')\n",
    "    password2 = input('비밀번호 확인: ')\n",
    "    if password == password2:\n",
    "        if len(password) >= 10:\n",
    "            for i in password:\n",
    "                if i.isalpha():\n",
    "                    alpha += 1\n",
    "                else:\n",
    "                    digit += 1\n",
    "            if alpha == 0 or digit == 0:\n",
    "                print('비밀번호가 잘못되었습니다! 다시 입력해주세요')\n",
    "            else:\n",
    "                print('유효한 비밀번호입니다~~~')\n",
    "        else:\n",
    "            print('10자리 이상 입력해주세요~~')\n",
    "    else:\n",
    "        print('비밀번호와 비밀번호 확인이 서로 다릅니다! 다시 입력해주세요!')\n",
    "while True:\n",
    "    password()"
   ]
  },
  {
   "cell_type": "code",
   "execution_count": null,
   "metadata": {},
   "outputs": [],
   "source": []
  }
 ],
 "metadata": {
  "kernelspec": {
   "display_name": "Python 3",
   "language": "python",
   "name": "python3"
  },
  "language_info": {
   "codemirror_mode": {
    "name": "ipython",
    "version": 3
   },
   "file_extension": ".py",
   "mimetype": "text/x-python",
   "name": "python",
   "nbconvert_exporter": "python",
   "pygments_lexer": "ipython3",
   "version": "3.7.6"
  }
 },
 "nbformat": 4,
 "nbformat_minor": 4
}
