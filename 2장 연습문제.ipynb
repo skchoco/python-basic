{
 "cells": [
  {
   "cell_type": "markdown",
   "metadata": {},
   "source": [
    "# 2장 연습문제"
   ]
  },
  {
   "cell_type": "markdown",
   "metadata": {},
   "source": [
    "ex 1.\n",
    "\n",
    "숫자형 데이터. 숫자형 데이터에는 정수형(integer)와 실수형(float)이 존재하는데 정수형 데이터는 -1, 2, 0 등 양수로 구성된 정수를 의미하고\n",
    "실수형 데이터는 3.14, 0.2925와 같이 소수점이 존재하는 데이터이다.\n",
    "\n",
    "문자형 데이터. 문자형 데이터는 문자로 구성된 데이터를 의미한다. 숫자와 달리 ''나 \"\"를 붙여 정의한다"
   ]
  },
  {
   "cell_type": "code",
   "execution_count": 2,
   "metadata": {},
   "outputs": [
    {
     "name": "stdout",
     "output_type": "stream",
     "text": [
      "-72\n"
     ]
    }
   ],
   "source": [
    "# ex 2.\n",
    "a = 7\n",
    "b = 10\n",
    "\n",
    "c = a + b * 2\n",
    "c %= 5\n",
    "c **= 3\n",
    "c -= c*10\n",
    "\n",
    "print(c)"
   ]
  },
  {
   "cell_type": "code",
   "execution_count": 20,
   "metadata": {},
   "outputs": [
    {
     "name": "stdout",
     "output_type": "stream",
     "text": [
      "반지름을 입력하세요: 10\n",
      "반지름: 10cm\n",
      "원의 둘레: 62.80cm\n",
      "원의 면적: 314.00cm^2\n"
     ]
    }
   ],
   "source": [
    "# ex 3.\n",
    "r_val = 3.14\n",
    "r = int(input('반지름을 입력하세요: '))\n",
    "print('반지름: %dcm' %r)\n",
    "print('원의 둘레: %.02fcm' %(2*r_val*r))\n",
    "print('원의 면적: %.02fcm^2' %(r_val*r**2))"
   ]
  },
  {
   "cell_type": "code",
   "execution_count": 23,
   "metadata": {},
   "outputs": [
    {
     "name": "stdout",
     "output_type": "stream",
     "text": [
      "책 값을 입력하세요: 15000\n",
      "할인율을 입력하세요(%): 15\n",
      "배송료를 입력하세요: 3000\n",
      "결제 금액: 15750원\n"
     ]
    }
   ],
   "source": [
    "book_price = int(input('책 값을 입력하세요: '))\n",
    "price_rate = int(input('할인율을 입력하세요(%): '))\n",
    "delivery_price = int(input('배송료를 입력하세요: '))\n",
    "print('결제 금액: %.f원' %(book_price-(book_price*price_rate/100)+delivery_price))"
   ]
  },
  {
   "cell_type": "code",
   "execution_count": 24,
   "metadata": {},
   "outputs": [
    {
     "name": "stdout",
     "output_type": "stream",
     "text": [
      "이름을 입력하세요: 정승기\n",
      "현재년을 입력하세요: 2020\n",
      "탄생년을 입력하세요: 1995\n",
      "정승기님의 나이는 26세 입니다!\n"
     ]
    }
   ],
   "source": [
    "name = input('이름을 입력하세요: ')\n",
    "pre_year = int(input('현재년을 입력하세요: '))\n",
    "birth_year = int(input('탄생년을 입력하세요: '))\n",
    "print('%s님의 나이는 %d세 입니다!' %(name, pre_year-birth_year+1))"
   ]
  },
  {
   "cell_type": "code",
   "execution_count": 25,
   "metadata": {},
   "outputs": [
    {
     "name": "stdout",
     "output_type": "stream",
     "text": [
      "연을 입력하세요: 2020\n",
      "월을 입력하세요: 1\n",
      "일을 입력하세요: 5\n",
      "2020-01-05\n"
     ]
    }
   ],
   "source": [
    "year = int(input('연을 입력하세요: '))\n",
    "month = int(input('월을 입력하세요: '))\n",
    "day = int(input('일을 입력하세요: '))\n",
    "print('%d-%.02d-%.02d' %(year, month, day))"
   ]
  },
  {
   "cell_type": "code",
   "execution_count": null,
   "metadata": {},
   "outputs": [],
   "source": []
  }
 ],
 "metadata": {
  "kernelspec": {
   "display_name": "Python 3",
   "language": "python",
   "name": "python3"
  },
  "language_info": {
   "codemirror_mode": {
    "name": "ipython",
    "version": 3
   },
   "file_extension": ".py",
   "mimetype": "text/x-python",
   "name": "python",
   "nbconvert_exporter": "python",
   "pygments_lexer": "ipython3",
   "version": "3.7.6"
  }
 },
 "nbformat": 4,
 "nbformat_minor": 4
}
