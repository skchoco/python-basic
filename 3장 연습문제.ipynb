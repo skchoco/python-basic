{
 "cells": [
  {
   "cell_type": "markdown",
   "metadata": {},
   "source": [
    "# 3장 연습문제"
   ]
  },
  {
   "cell_type": "code",
   "execution_count": 16,
   "metadata": {},
   "outputs": [
    {
     "name": "stdout",
     "output_type": "stream",
     "text": [
      "a = 2, b = 5, c =-3 일 때 \n",
      " a!=2 => False  not(b >= a) => False  c/2 > a*3 => False\n",
      "\n",
      "\n",
      "a = 3, b = 7, c = -4 일 때 \n",
      " a!=2 => True  not(b >= a) => False  c/2 > a*3 => False\n",
      "\n",
      "\n",
      "a = -10, b = 10, c = -2 일 때 \n",
      " a!=2 => True  not(b >= a) => False  c/2 > a*3 => True\n"
     ]
    }
   ],
   "source": [
    "# ex 1.\n",
    "a, b, c = 2, 5, -3\n",
    "print('a = 2, b = 5, c =-3 일 때 \\n a!=2 => %s  not(b >= a) => %s  c/2 > a*3 => %s\\n\\n' %(a!=2, not(b >= a), c/2 > a*3))\n",
    "\n",
    "a, b, c = 3, 7, -4\n",
    "print('a = 3, b = 7, c = -4 일 때 \\n a!=2 => %s  not(b >= a) => %s  c/2 > a*3 => %s\\n\\n' %(a!=2, not(b >= a), c/2 > a*3))\n",
    "\n",
    "a, b, c = -10, 10, -2\n",
    "print('a = -10, b = 10, c = -2 일 때 \\n a!=2 => %s  not(b >= a) => %s  c/2 > a*3 => %s' %(a!=2, not(b >= a), c/2 > a*3))"
   ]
  },
  {
   "cell_type": "code",
   "execution_count": 19,
   "metadata": {},
   "outputs": [
    {
     "name": "stdout",
     "output_type": "stream",
     "text": [
      "a = -5, b = 3, c = 2 일 때 \n",
      " a>2 or c>b and c>2 => False  not(a > 5 or b > c and c >=3) => True\n",
      "\n",
      "\n",
      "a = 10, b = 5, c = 7 일 때 \n",
      " a>2 or c>b and c>2 => True  not(a > 5 or b > c and c >=3) => False\n",
      "\n",
      "\n",
      "a = -5, b = 3, c = 2 일 때 \n",
      " a>2 or c>b and c>2 => False  not(a > 5 or b > c and c >=3) => True\n"
     ]
    }
   ],
   "source": [
    "# ex 2.\n",
    "a, b, c = -5, 3, 2\n",
    "print('a = -5, b = 3, c = 2 일 때 \\n a>2 or c>b and c>2 => %s  not(a > 5 or b > c and c >=3) => %s\\n\\n' %(a>2 or c>b and c>2, not(a > 5 or b > c and c >=3)))\n",
    "\n",
    "a, b, c = 10, 5, 7\n",
    "print('a = 10, b = 5, c = 7 일 때 \\n a>2 or c>b and c>2 => %s  not(a > 5 or b > c and c >=3) => %s\\n\\n' %(a>2 or c>b and c>2, not(a > 5 or b > c and c >=3)))\n",
    "\n",
    "a, b, c = -3, 10, 2\n",
    "print('a = -5, b = 3, c = 2 일 때 \\n a>2 or c>b and c>2 => %s  not(a > 5 or b > c and c >=3) => %s' %(a>2 or c>b and c>2, not(a > 5 or b > c and c >=3)))"
   ]
  },
  {
   "cell_type": "code",
   "execution_count": 20,
   "metadata": {},
   "outputs": [
    {
     "name": "stdout",
     "output_type": "stream",
     "text": [
      "4\n"
     ]
    }
   ],
   "source": [
    "# ex 3.\n",
    "a = 2\n",
    "z = a * 5\n",
    "w = (z-3)*(a-2)/7+10\n",
    "\n",
    "if a>z or w>a:\n",
    "    y = 2*a\n",
    "else:\n",
    "    y = 4*a\n",
    "print(y)"
   ]
  },
  {
   "cell_type": "code",
   "execution_count": 48,
   "metadata": {},
   "outputs": [
    {
     "name": "stdout",
     "output_type": "stream",
     "text": [
      "단위를 입력하세요(1: 섭씨, 2: 화씨): 2\n",
      "온도를 입력하세요: 80\n",
      "물의 섭씨 온도: 26.67, 상태: 액체\n"
     ]
    }
   ],
   "source": [
    "temp_type = input('단위를 입력하세요(1: 섭씨, 2: 화씨): ')\n",
    "temp = int(input('온도를 입력하세요: '))\n",
    "if temp_type == '1':\n",
    "    fah_temp = (temp*9/5)+32\n",
    "    if temp > 99:\n",
    "        state = '기체'\n",
    "    elif temp > 0:\n",
    "        state = '액체'\n",
    "    else:\n",
    "        state = '고체'\n",
    "    print('물의 화씨 온도: %.02f, 상태: %s' %(fah_temp, state))\n",
    "else:\n",
    "    cel_temp = (temp - 32)*5/9\n",
    "    if temp > 211:\n",
    "        state = '기체'\n",
    "    elif temp > 32:\n",
    "        state = '액체'    \n",
    "    else:\n",
    "        state = '고체'\n",
    "    print('물의 섭씨 온도: %.02f, 상태: %s' %(cel_temp, state))"
   ]
  },
  {
   "cell_type": "code",
   "execution_count": 38,
   "metadata": {},
   "outputs": [
    {
     "name": "stdout",
     "output_type": "stream",
     "text": [
      "아이디를 입력하세요: rubato\n",
      "회원 레벨을 입력해주세요: 3\n",
      "일부 컨텐츠 이용가능\n"
     ]
    }
   ],
   "source": [
    "member_id = input('아이디를 입력하세요: ')\n",
    "member_level = int(input('회원 레벨을 입력해주세요: '))\n",
    "if member_id == 'admin':\n",
    "    print('모든 콘텐츠 이용가능')\n",
    "else:\n",
    "    if member_level in list(range(2, 8)):\n",
    "        print('일부 컨텐츠 이용가능')\n",
    "    else:\n",
    "        print('콘텐츠 이용 불가')"
   ]
  },
  {
   "cell_type": "code",
   "execution_count": 40,
   "metadata": {},
   "outputs": [
    {
     "name": "stdout",
     "output_type": "stream",
     "text": [
      "나이를 입력하세요: 6\n",
      "입장료는 1000\n"
     ]
    }
   ],
   "source": [
    "age = int(input('나이를 입력하세요: '))\n",
    "if age > 64:\n",
    "    pay = 0\n",
    "elif age > 10:\n",
    "    pay = 2000\n",
    "else:\n",
    "    pay = 1000\n",
    "print('입장료는 %d' %pay)"
   ]
  },
  {
   "cell_type": "code",
   "execution_count": 45,
   "metadata": {},
   "outputs": [
    {
     "name": "stdout",
     "output_type": "stream",
     "text": [
      "영어시험 점수를 입력하세요: 85\n",
      "수학시험 점수를 입력하세요: 75\n",
      "재시험 기회제공\n"
     ]
    }
   ],
   "source": [
    "eng = int(input('영어시험 점수를 입력하세요: '))\n",
    "math = int(input('수학시험 점수를 입력하세요: '))\n",
    "if eng >= 80 and math >= 80:\n",
    "    print('합격')\n",
    "elif eng >= 80 or math >= 80:\n",
    "    print('재시험 기회제공')\n",
    "else:\n",
    "    print('불합격')"
   ]
  },
  {
   "cell_type": "code",
   "execution_count": null,
   "metadata": {},
   "outputs": [],
   "source": []
  }
 ],
 "metadata": {
  "kernelspec": {
   "display_name": "Python 3",
   "language": "python",
   "name": "python3"
  },
  "language_info": {
   "codemirror_mode": {
    "name": "ipython",
    "version": 3
   },
   "file_extension": ".py",
   "mimetype": "text/x-python",
   "name": "python",
   "nbconvert_exporter": "python",
   "pygments_lexer": "ipython3",
   "version": "3.7.6"
  }
 },
 "nbformat": 4,
 "nbformat_minor": 4
}
