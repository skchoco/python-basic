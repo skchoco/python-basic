{
 "cells": [
  {
   "cell_type": "markdown",
   "metadata": {},
   "source": [
    "# Chapter 02. 파이썬의 기본 문법"
   ]
  },
  {
   "cell_type": "code",
   "execution_count": 1,
   "metadata": {},
   "outputs": [
    {
     "name": "stdout",
     "output_type": "stream",
     "text": [
      "50\n"
     ]
    }
   ],
   "source": [
    "# 예제 2-1\n",
    "a = 20\n",
    "b = 30\n",
    "c = a + b\n",
    "print(c)"
   ]
  },
  {
   "cell_type": "code",
   "execution_count": 2,
   "metadata": {},
   "outputs": [
    {
     "name": "stdout",
     "output_type": "stream",
     "text": [
      "20 Mac 30 70 홍길동 1997 20.3\n"
     ]
    }
   ],
   "source": [
    "# ex 2-2\n",
    "x = 20\n",
    "Computer = 'Mac'\n",
    "Age = 30\n",
    "my_score = 70\n",
    "_name = '홍길동'\n",
    "myBirthYear = 1997\n",
    "data2 = 20.3\n",
    "\n",
    "print(x, Computer, Age, my_score, _name, myBirthYear, data2)"
   ]
  },
  {
   "cell_type": "code",
   "execution_count": 3,
   "metadata": {},
   "outputs": [
    {
     "name": "stdout",
     "output_type": "stream",
     "text": [
      "20 Mac 30 70 홍길동 1997 20.3\n"
     ]
    }
   ],
   "source": [
    "# ex 2-2\n",
    "x = 20\n",
    "computer = 'Mac'\n",
    "Age = 30\n",
    "my_score = 70\n",
    "_name = '홍길동'\n",
    "my_Birth_Year = 1997\n",
    "data2 = 20.3\n",
    "\n",
    "print(x, computer, Age, my_score, _name, my_Birth_Year, data2)"
   ]
  },
  {
   "cell_type": "code",
   "execution_count": 4,
   "metadata": {},
   "outputs": [
    {
     "name": "stdout",
     "output_type": "stream",
     "text": [
      "30\n",
      "<class 'int'>\n"
     ]
    }
   ],
   "source": [
    "# ex 2-4\n",
    "x = 30\n",
    "print(x)\n",
    "print(type(x))"
   ]
  },
  {
   "cell_type": "code",
   "execution_count": 5,
   "metadata": {},
   "outputs": [
    {
     "name": "stdout",
     "output_type": "stream",
     "text": [
      "3.3764 3.0\n",
      "<class 'float'> <class 'float'>\n"
     ]
    }
   ],
   "source": [
    "# ex 2-5\n",
    "x = 3.3764\n",
    "y = 6/2\n",
    "print(x, y)\n",
    "print(type(x), type(y))"
   ]
  },
  {
   "cell_type": "code",
   "execution_count": 6,
   "metadata": {},
   "outputs": [
    {
     "name": "stdout",
     "output_type": "stream",
     "text": [
      "x\n",
      "I am ok.\n",
      "안녕하세요.\n",
      "<class 'str'>\n"
     ]
    }
   ],
   "source": [
    "# ex 2-6\n",
    "a = 'x'\n",
    "b = 'I am ok.'\n",
    "c = \"안녕하세요.\"\n",
    "\n",
    "print(a)\n",
    "print(b)\n",
    "print(c)\n",
    "print(type(c))"
   ]
  },
  {
   "cell_type": "code",
   "execution_count": 8,
   "metadata": {},
   "outputs": [
    {
     "name": "stdout",
     "output_type": "stream",
     "text": [
      "30\n",
      "<class 'int'>\n",
      "30\n",
      "<class 'str'>\n"
     ]
    }
   ],
   "source": [
    "# ex 2-7\n",
    "a = 30             # 0001 1110\n",
    "print(a)\n",
    "print(type(a))\n",
    "\n",
    "b = '30'           # ASCII code (0x33, 0x30), Human interaction\n",
    "print(b)\n",
    "print(type(b))"
   ]
  },
  {
   "cell_type": "code",
   "execution_count": 9,
   "metadata": {},
   "outputs": [
    {
     "name": "stdout",
     "output_type": "stream",
     "text": [
      "I am happy!\n",
      "I\n",
      "I a\n",
      "happy!\n",
      "!\n",
      "py!\n",
      "pp\n"
     ]
    }
   ],
   "source": [
    "# ex 2-8\n",
    "x = 'I am happy!'\n",
    "\n",
    "print(x)\n",
    "print(x[0])\n",
    "print(x[0:3])\n",
    "print(x[5:])\n",
    "print(x[-1])\n",
    "print(x[-3:])\n",
    "print(x[-4:-2])"
   ]
  },
  {
   "cell_type": "code",
   "execution_count": 15,
   "metadata": {},
   "outputs": [
    {
     "name": "stdout",
     "output_type": "stream",
     "text": [
      "나는\n",
      "행복합니다\n",
      "행복\n"
     ]
    }
   ],
   "source": [
    "y = '나는 행복합니다.'\n",
    "print(y[:2])\n",
    "print(y[3:-1])\n",
    "start = 3\n",
    "print(y[start: start+2])"
   ]
  },
  {
   "cell_type": "code",
   "execution_count": 17,
   "metadata": {},
   "outputs": [
    {
     "name": "stdout",
     "output_type": "stream",
     "text": [
      "강아지 happy happy\n"
     ]
    }
   ],
   "source": [
    "z = '내 강아지 이름은 happy예요.'\n",
    "print(z[2:5], z[10:15], z[-8:-3])"
   ]
  },
  {
   "cell_type": "code",
   "execution_count": 33,
   "metadata": {},
   "outputs": [
    {
     "name": "stdout",
     "output_type": "stream",
     "text": [
      "15\n"
     ]
    }
   ],
   "source": [
    "# ex 2-16\n",
    "a = '쥐 구멍에 볕 들 날 있다.'\n",
    "print(len(a))"
   ]
  },
  {
   "cell_type": "code",
   "execution_count": 34,
   "metadata": {},
   "outputs": [
    {
     "name": "stdout",
     "output_type": "stream",
     "text": [
      "정승기님 안녕하세요!\n"
     ]
    }
   ],
   "source": [
    "# ex 2-17\n",
    "name = '정승기'\n",
    "greet = name + '님 안녕하세요!'\n",
    "print(greet)"
   ]
  },
  {
   "cell_type": "code",
   "execution_count": 35,
   "metadata": {},
   "outputs": [
    {
     "ename": "TypeError",
     "evalue": "can only concatenate str (not \"int\") to str",
     "output_type": "error",
     "traceback": [
      "\u001b[1;31m---------------------------------------------------------------------------\u001b[0m",
      "\u001b[1;31mTypeError\u001b[0m                                 Traceback (most recent call last)",
      "\u001b[1;32m<ipython-input-35-bfd9d484e9c3>\u001b[0m in \u001b[0;36m<module>\u001b[1;34m\u001b[0m\n\u001b[0;32m      1\u001b[0m \u001b[1;31m# ex 2-18\u001b[0m\u001b[1;33m\u001b[0m\u001b[1;33m\u001b[0m\u001b[1;33m\u001b[0m\u001b[0m\n\u001b[0;32m      2\u001b[0m \u001b[0meng\u001b[0m \u001b[1;33m=\u001b[0m \u001b[1;36m80\u001b[0m\u001b[1;33m\u001b[0m\u001b[1;33m\u001b[0m\u001b[0m\n\u001b[1;32m----> 3\u001b[1;33m \u001b[0mresult\u001b[0m \u001b[1;33m=\u001b[0m \u001b[1;34m'영어 점수: '\u001b[0m \u001b[1;33m+\u001b[0m \u001b[0meng\u001b[0m \u001b[1;33m+\u001b[0m \u001b[1;34m'점'\u001b[0m\u001b[1;33m\u001b[0m\u001b[1;33m\u001b[0m\u001b[0m\n\u001b[0m\u001b[0;32m      4\u001b[0m \u001b[0mprint\u001b[0m\u001b[1;33m(\u001b[0m\u001b[0mresult\u001b[0m\u001b[1;33m)\u001b[0m\u001b[1;33m\u001b[0m\u001b[1;33m\u001b[0m\u001b[0m\n",
      "\u001b[1;31mTypeError\u001b[0m: can only concatenate str (not \"int\") to str"
     ]
    }
   ],
   "source": [
    "# ex 2-18\n",
    "eng = 80\n",
    "result = '영어 점수: ' + eng + '점'\n",
    "print(result)"
   ]
  },
  {
   "cell_type": "code",
   "execution_count": 36,
   "metadata": {},
   "outputs": [
    {
     "name": "stdout",
     "output_type": "stream",
     "text": [
      "영어 점수: 80점\n"
     ]
    }
   ],
   "source": [
    "result = '영어 점수: ' + str(eng) + '점'\n",
    "print(result)"
   ]
  },
  {
   "cell_type": "code",
   "execution_count": 51,
   "metadata": {},
   "outputs": [
    {
     "name": "stdout",
     "output_type": "stream",
     "text": [
      "2020-03-05\n"
     ]
    }
   ],
   "source": [
    "# ex 2-22\n",
    "year = 2020\n",
    "month = 3\n",
    "day = 5\n",
    "\n",
    "a = '%d-%02d-%02d' %(year, month, day)\n",
    "print(a)"
   ]
  },
  {
   "cell_type": "code",
   "execution_count": 52,
   "metadata": {},
   "outputs": [
    {
     "name": "stdout",
     "output_type": "stream",
     "text": [
      "키는 172.50입니다.\n"
     ]
    }
   ],
   "source": [
    "# ex 2-23\n",
    "height = 172.5\n",
    "a = '키는 %.2f입니다.' %height\n",
    "print(a)"
   ]
  },
  {
   "cell_type": "code",
   "execution_count": 64,
   "metadata": {},
   "outputs": [
    {
     "name": "stdout",
     "output_type": "stream",
     "text": [
      "키는     172.50입니다.\n"
     ]
    }
   ],
   "source": [
    "a = '키는 %10.2f입니다.' %height\n",
    "print(a)"
   ]
  },
  {
   "cell_type": "code",
   "execution_count": 73,
   "metadata": {},
   "outputs": [
    {
     "name": "stdout",
     "output_type": "stream",
     "text": [
      "이름: 정승기\n",
      "나이: 18\n",
      "시력: 1.2\n"
     ]
    }
   ],
   "source": [
    "# ex 2-24\n",
    "name = '정승기'\n",
    "age = 18\n",
    "eyesight = 1.2\n",
    "\n",
    "a = '이름: {}'.format(name)\n",
    "b = '나이: {}'.format(age)\n",
    "c = '시력: {}'.format(eyesight)\n",
    "\n",
    "print(a)\n",
    "print(b)\n",
    "print(c)"
   ]
  },
  {
   "cell_type": "code",
   "execution_count": 83,
   "metadata": {},
   "outputs": [
    {
     "data": {
      "text/plain": [
       "1"
      ]
     },
     "execution_count": 83,
     "metadata": {},
     "output_type": "execute_result"
    }
   ],
   "source": [
    "# 문자열 메소드\n",
    "x = 'I am happy!'\n",
    "x.count('am')"
   ]
  },
  {
   "cell_type": "code",
   "execution_count": 84,
   "metadata": {},
   "outputs": [
    {
     "data": {
      "text/plain": [
       "5"
      ]
     },
     "execution_count": 84,
     "metadata": {},
     "output_type": "execute_result"
    }
   ],
   "source": [
    "x.find('happy')"
   ]
  },
  {
   "cell_type": "code",
   "execution_count": 85,
   "metadata": {},
   "outputs": [
    {
     "data": {
      "text/plain": [
       "'I AM HAPPY!'"
      ]
     },
     "execution_count": 85,
     "metadata": {},
     "output_type": "execute_result"
    }
   ],
   "source": [
    "x.upper()"
   ]
  },
  {
   "cell_type": "code",
   "execution_count": 86,
   "metadata": {},
   "outputs": [
    {
     "data": {
      "text/plain": [
       "'i am happy!'"
      ]
     },
     "execution_count": 86,
     "metadata": {},
     "output_type": "execute_result"
    }
   ],
   "source": [
    "x.lower()"
   ]
  },
  {
   "cell_type": "code",
   "execution_count": 87,
   "metadata": {},
   "outputs": [
    {
     "data": {
      "text/plain": [
       "'I was happy!'"
      ]
     },
     "execution_count": 87,
     "metadata": {},
     "output_type": "execute_result"
    }
   ],
   "source": [
    "x.replace('am', 'was')"
   ]
  },
  {
   "cell_type": "code",
   "execution_count": 89,
   "metadata": {},
   "outputs": [
    {
     "data": {
      "text/plain": [
       "['I', 'am', 'happy!']"
      ]
     },
     "execution_count": 89,
     "metadata": {},
     "output_type": "execute_result"
    }
   ],
   "source": [
    "x.split(' ')"
   ]
  },
  {
   "cell_type": "code",
   "execution_count": 90,
   "metadata": {},
   "outputs": [
    {
     "data": {
      "text/plain": [
       "False"
      ]
     },
     "execution_count": 90,
     "metadata": {},
     "output_type": "execute_result"
    }
   ],
   "source": [
    "x.isspace()"
   ]
  },
  {
   "cell_type": "code",
   "execution_count": 94,
   "metadata": {},
   "outputs": [
    {
     "name": "stdout",
     "output_type": "stream",
     "text": [
      "두 과목 점수: 80, 87\n",
      "합계: 167, 평균: 83.50\n"
     ]
    }
   ],
   "source": [
    "# ex 2-27\n",
    "score1 = 80\n",
    "score2 = 87\n",
    "\n",
    "sum = score1 + score2\n",
    "avg = sum/2\n",
    "\n",
    "print(\"두 과목 점수: %d, %d\" %(score1, score2))\n",
    "print(\"합계: %d, 평균: %.2f\"%(sum, avg))"
   ]
  },
  {
   "cell_type": "code",
   "execution_count": 95,
   "metadata": {},
   "outputs": [
    {
     "name": "stdout",
     "output_type": "stream",
     "text": [
      "오늘은\n",
      "2020 5 29\n",
      "입니다.\n"
     ]
    }
   ],
   "source": [
    "# sep, end\n",
    "print('오늘은')\n",
    "year = 2020\n",
    "month = 5\n",
    "day = 29\n",
    "print(year, month, day)\n",
    "print(\"입니다.\")"
   ]
  },
  {
   "cell_type": "code",
   "execution_count": 96,
   "metadata": {},
   "outputs": [
    {
     "name": "stdout",
     "output_type": "stream",
     "text": [
      "오늘은 2020/5/29 입니다.\n"
     ]
    }
   ],
   "source": [
    "print('오늘은', end = ' ')\n",
    "print(year, month, day, sep = '/', end=' ')\n",
    "print('입니다.')"
   ]
  },
  {
   "cell_type": "code",
   "execution_count": 97,
   "metadata": {},
   "outputs": [
    {
     "name": "stdout",
     "output_type": "stream",
     "text": [
      "이름을 입력하세요: 부처\n",
      "부처님 반갑습니다.\n"
     ]
    }
   ],
   "source": [
    "# ex 2-31\n",
    "name = input('이름을 입력하세요: ')\n",
    "print('%s님 반갑습니다.' %name)"
   ]
  },
  {
   "cell_type": "code",
   "execution_count": 99,
   "metadata": {},
   "outputs": [
    {
     "name": "stdout",
     "output_type": "stream",
     "text": [
      "first number> 30\n",
      "second number> 198\n",
      "sum =  228\n"
     ]
    }
   ],
   "source": [
    "# ex 2-33\n",
    "a = int(input('first number> '))\n",
    "b = int(input('second number> '))\n",
    "print('sum = ', a+b)"
   ]
  },
  {
   "cell_type": "code",
   "execution_count": 101,
   "metadata": {},
   "outputs": [
    {
     "name": "stdout",
     "output_type": "stream",
     "text": [
      "30\n"
     ]
    }
   ],
   "source": [
    "# ex 2-35\n",
    "# 파일명 : ex 2-35.py\n",
    "\"\"\"\n",
    "프로그램명: 두 수 더하기\n",
    "작성자: 홍길동\n",
    "작성일: 2012.9.20\n",
    "\"\"\"\n",
    "\n",
    "a = 10                 # 변수 a에 10 저장\n",
    "b = 20                 # 변수 b에 20 저장\n",
    "\n",
    "c = a + b              # 두 수를 더해 변수 c에 저장\n",
    "\n",
    "# 결과를 출력한다.\n",
    "print(c)"
   ]
  },
  {
   "cell_type": "code",
   "execution_count": null,
   "metadata": {},
   "outputs": [],
   "source": []
  }
 ],
 "metadata": {
  "kernelspec": {
   "display_name": "Python 3",
   "language": "python",
   "name": "python3"
  },
  "language_info": {
   "codemirror_mode": {
    "name": "ipython",
    "version": 3
   },
   "file_extension": ".py",
   "mimetype": "text/x-python",
   "name": "python",
   "nbconvert_exporter": "python",
   "pygments_lexer": "ipython3",
   "version": "3.7.6"
  }
 },
 "nbformat": 4,
 "nbformat_minor": 4
}
