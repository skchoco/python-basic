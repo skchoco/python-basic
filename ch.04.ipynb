{
 "cells": [
  {
   "cell_type": "markdown",
   "metadata": {},
   "source": [
    "# Chapter 4. 반복문"
   ]
  },
  {
   "cell_type": "code",
   "execution_count": 25,
   "metadata": {},
   "outputs": [
    {
     "name": "stdout",
     "output_type": "stream",
     "text": [
      "안녕하세요. 0\n",
      "안녕하세요. 1\n",
      "안녕하세요. 2\n",
      "안녕하세요. 3\n",
      "안녕하세요. 4\n"
     ]
    }
   ],
   "source": [
    "# ex 4-1\n",
    "for x in range(5):\n",
    "    print('안녕하세요.', x)"
   ]
  },
  {
   "cell_type": "code",
   "execution_count": 26,
   "metadata": {},
   "outputs": [
    {
     "name": "stdout",
     "output_type": "stream",
     "text": [
      "안녕하세요. 0\n",
      "안녕하세요. 1\n",
      "안녕하세요. 2\n",
      "안녕하세요. 3\n",
      "안녕하세요. 4\n"
     ]
    }
   ],
   "source": [
    "# ex 4-2\n",
    "x = 0\n",
    "while x < 5:\n",
    "    print('안녕하세요.', x)\n",
    "    x += 1"
   ]
  },
  {
   "cell_type": "code",
   "execution_count": 30,
   "metadata": {},
   "outputs": [
    {
     "name": "stdout",
     "output_type": "stream",
     "text": [
      "5\n",
      "4\n",
      "3\n",
      "2\n",
      "1\n"
     ]
    }
   ],
   "source": [
    "for i in range(5, 0, -1):\n",
    "    print(i)"
   ]
  },
  {
   "cell_type": "code",
   "execution_count": 38,
   "metadata": {},
   "outputs": [
    {
     "name": "stdout",
     "output_type": "stream",
     "text": [
      "50005000\n"
     ]
    }
   ],
   "source": [
    "# ex 4-3\n",
    "sum = 0\n",
    "for i in range(1, 10001):\n",
    "    sum += i\n",
    "print(sum)"
   ]
  },
  {
   "cell_type": "code",
   "execution_count": 39,
   "metadata": {},
   "outputs": [
    {
     "name": "stdout",
     "output_type": "stream",
     "text": [
      "0 1 2 3 4 5 6 7 8 9 \n",
      "1 2 3 4 5 6 7 8 9 10 \n",
      "1 3 5 7 9 \n",
      "20 18 16 14 12 10 8 6 4 2 "
     ]
    }
   ],
   "source": [
    "# ex 4-4\n",
    "for i in range(10):\n",
    "    print(i, end= ' ')\n",
    "print()\n",
    "\n",
    "for i in range(1, 11):\n",
    "    print(i, end = ' ')\n",
    "print()\n",
    "\n",
    "for i in range(1, 10, 2):\n",
    "    print(i, end = ' ')\n",
    "print()\n",
    "\n",
    "for i in range(20, 0, -2):\n",
    "    print(i, end = ' ')"
   ]
  },
  {
   "cell_type": "code",
   "execution_count": 41,
   "metadata": {},
   "outputs": [
    {
     "name": "stdout",
     "output_type": "stream",
     "text": [
      "3 6 9 12 15 18 21 24 27 30 33 36 39 42 45 48 51 54 57 60 63 66 69 72 75 78 81 84 87 90 93 96 99 \n",
      " --------------------------------------------------\n",
      "1~100에서 3의 배수의 합계: 1683\n"
     ]
    }
   ],
   "source": [
    "# ex 4-5\n",
    "sum = 0\n",
    "for i in range(1, 101):\n",
    "    if i % 3 == 0:\n",
    "        print('%d' %i, end = ' ')\n",
    "        sum += i\n",
    "print('\\n', '-' *50)\n",
    "print('1~100에서 3의 배수의 합계: %d' %sum)"
   ]
  },
  {
   "cell_type": "code",
   "execution_count": 42,
   "metadata": {},
   "outputs": [
    {
     "name": "stdout",
     "output_type": "stream",
     "text": [
      "영어 문장을 입력하세요> I love you.\n",
      "I\n",
      " \n",
      "l\n",
      "o\n",
      "v\n",
      "e\n",
      " \n",
      "y\n",
      "o\n",
      "u\n",
      ".\n"
     ]
    }
   ],
   "source": [
    "# ex 4-6\n",
    "word = input('영어 문장을 입력하세요> ')\n",
    "\n",
    "for c in word:\n",
    "    print(c)"
   ]
  },
  {
   "cell_type": "code",
   "execution_count": 46,
   "metadata": {},
   "outputs": [
    {
     "name": "stdout",
     "output_type": "stream",
     "text": [
      "------------------------------\n",
      "    섭씨   화씨\n",
      "------------------------------\n",
      "     -20   -4.0\n",
      "     -15    5.0\n",
      "     -10   14.0\n",
      "      -5   23.0\n",
      "       0   32.0\n",
      "       5   41.0\n",
      "      10   50.0\n",
      "      15   59.0\n",
      "      20   68.0\n",
      "      25   77.0\n",
      "      30   86.0\n",
      "------------------------------\n"
     ]
    }
   ],
   "source": [
    "# ex 4-7\n",
    "print('-'*30)\n",
    "print('    섭씨   화씨')\n",
    "print('-'*30)\n",
    "\n",
    "for c in range(-20, 31, 5):\n",
    "    f = c * 9.0/5.0 + 32.0\n",
    "    print('%8d %6.1f' %(c,f))\n",
    "print('-'*30)"
   ]
  },
  {
   "cell_type": "code",
   "execution_count": 47,
   "metadata": {},
   "outputs": [
    {
     "name": "stdout",
     "output_type": "stream",
     "text": [
      "시작 수를 입력하세요: 1\n",
      "끝 수를 입력하세요: 50\n",
      "--------------------------------------------------\n",
      "1에서 50까지 5의 배수가 아닌 수의 합계: 1000\n"
     ]
    }
   ],
   "source": [
    "# Q 4-1. 5의 배수가 아닌 수의 합계 구하기\n",
    "n1 = int(input('시작 수를 입력하세요: '))\n",
    "n2 = int(input('끝 수를 입력하세요: '))\n",
    "\n",
    "sum = 0\n",
    "for i in range(n1, n2 +1):\n",
    "    if i % 5 != 0:\n",
    "        sum += i\n",
    "print('-'*50)\n",
    "print('%d에서 %d까지 5의 배수가 아닌 수의 합계: %d' %(n1,n2,sum))"
   ]
  },
  {
   "cell_type": "code",
   "execution_count": 49,
   "metadata": {},
   "outputs": [
    {
     "name": "stdout",
     "output_type": "stream",
     "text": [
      "하이픈(-)을 포함한 휴대폰 번호를 입력하세요: 010-8617-4830\n",
      "01086174830"
     ]
    }
   ],
   "source": [
    "# Q 4-2. 전화번호에서 하이픈(-) 삭제하기\n",
    "number = input('하이픈(-)을 포함한 휴대폰 번호를 입력하세요: ')\n",
    "for x in number:\n",
    "    if x != '-':\n",
    "\n",
    "        print('%s' %x, end = '')"
   ]
  },
  {
   "cell_type": "code",
   "execution_count": 51,
   "metadata": {},
   "outputs": [
    {
     "name": "stdout",
     "output_type": "stream",
     "text": [
      "하이픈(-)을 뺀 11자리의 휴대폰 번호를 입력하세요: 01086174830\n",
      "010-8617-4830\n"
     ]
    }
   ],
   "source": [
    "# Q 4-3. 전화번호에 하이픈(-) 추가하기\n",
    "phone = input('하이픈(-)을 뺀 11자리의 휴대폰 번호를 입력하세요: ')\n",
    "number = '';\n",
    "for i in range(0, len(phone)):\n",
    "    if i == 2:\n",
    "        number = number + (phone[2]+'-')\n",
    "    elif i == 6:\n",
    "        number = number + (phone[6]+'-')\n",
    "    else:\n",
    "        number = number + phone[i]\n",
    "print(number)"
   ]
  },
  {
   "cell_type": "code",
   "execution_count": 52,
   "metadata": {},
   "outputs": [
    {
     "name": "stdout",
     "output_type": "stream",
     "text": [
      "--------------------------------------------------\n",
      "센티미터(cm) 인치(inch)   피트(ft)     야드(yd)\n",
      "--------------------------------------------------\n"
     ]
    }
   ],
   "source": [
    "# Q 4-4. 길이 단위 환산표 만들기\n",
    "print('-'*50)\n",
    "print('센티미터(cm) 인치(inch)   피트(ft)     야드(yd)')\n",
    "print('-'*50)\n"
   ]
  },
  {
   "cell_type": "code",
   "execution_count": 56,
   "metadata": {},
   "outputs": [
    {
     "name": "stdout",
     "output_type": "stream",
     "text": [
      "숫자를 입력하세요: 50\n",
      "입력된 숫자 중 홀수의 개수: 1개\n"
     ]
    }
   ],
   "source": [
    "# Q 4-6. 홀수 개수 세기\n",
    "number = input('숫자를 입력하세요: ')\n",
    "total = 0\n",
    "\n",
    "for a in number:\n",
    "    a = int(a)\n",
    "    if a % 2 == 1:\n",
    "        total += 1\n",
    "\n",
    "print('입력된 숫자 중 홀수의 개수: %d개' %total)"
   ]
  },
  {
   "cell_type": "code",
   "execution_count": 57,
   "metadata": {
    "scrolled": true
   },
   "outputs": [
    {
     "name": "stdout",
     "output_type": "stream",
     "text": [
      "--------------------------------------------------\n",
      "2 x 1 =  2\n",
      "2 x 2 =  4\n",
      "2 x 3 =  6\n",
      "2 x 4 =  8\n",
      "2 x 5 = 10\n",
      "2 x 6 = 12\n",
      "2 x 7 = 14\n",
      "2 x 8 = 16\n",
      "2 x 9 = 18\n",
      "--------------------------------------------------\n",
      "--------------------------------------------------\n",
      "3 x 1 =  3\n",
      "3 x 2 =  6\n",
      "3 x 3 =  9\n",
      "3 x 4 = 12\n",
      "3 x 5 = 15\n",
      "3 x 6 = 18\n",
      "3 x 7 = 21\n",
      "3 x 8 = 24\n",
      "3 x 9 = 27\n",
      "--------------------------------------------------\n",
      "--------------------------------------------------\n",
      "4 x 1 =  4\n",
      "4 x 2 =  8\n",
      "4 x 3 = 12\n",
      "4 x 4 = 16\n",
      "4 x 5 = 20\n",
      "4 x 6 = 24\n",
      "4 x 7 = 28\n",
      "4 x 8 = 32\n",
      "4 x 9 = 36\n",
      "--------------------------------------------------\n",
      "--------------------------------------------------\n",
      "5 x 1 =  5\n",
      "5 x 2 = 10\n",
      "5 x 3 = 15\n",
      "5 x 4 = 20\n",
      "5 x 5 = 25\n",
      "5 x 6 = 30\n",
      "5 x 7 = 35\n",
      "5 x 8 = 40\n",
      "5 x 9 = 45\n",
      "--------------------------------------------------\n",
      "--------------------------------------------------\n",
      "6 x 1 =  6\n",
      "6 x 2 = 12\n",
      "6 x 3 = 18\n",
      "6 x 4 = 24\n",
      "6 x 5 = 30\n",
      "6 x 6 = 36\n",
      "6 x 7 = 42\n",
      "6 x 8 = 48\n",
      "6 x 9 = 54\n",
      "--------------------------------------------------\n",
      "--------------------------------------------------\n",
      "7 x 1 =  7\n",
      "7 x 2 = 14\n",
      "7 x 3 = 21\n",
      "7 x 4 = 28\n",
      "7 x 5 = 35\n",
      "7 x 6 = 42\n",
      "7 x 7 = 49\n",
      "7 x 8 = 56\n",
      "7 x 9 = 63\n",
      "--------------------------------------------------\n",
      "--------------------------------------------------\n",
      "8 x 1 =  8\n",
      "8 x 2 = 16\n",
      "8 x 3 = 24\n",
      "8 x 4 = 32\n",
      "8 x 5 = 40\n",
      "8 x 6 = 48\n",
      "8 x 7 = 56\n",
      "8 x 8 = 64\n",
      "8 x 9 = 72\n",
      "--------------------------------------------------\n",
      "--------------------------------------------------\n",
      "9 x 1 =  9\n",
      "9 x 2 = 18\n",
      "9 x 3 = 27\n",
      "9 x 4 = 36\n",
      "9 x 5 = 45\n",
      "9 x 6 = 54\n",
      "9 x 7 = 63\n",
      "9 x 8 = 72\n",
      "9 x 9 = 81\n",
      "--------------------------------------------------\n"
     ]
    }
   ],
   "source": [
    "# ex 4-9 구구단\n",
    "for i in range(2, 10):\n",
    "    print('-'*50)\n",
    "    for k in range(1, 10):\n",
    "        print('%d x %d = %2d' %(i,k,i*k))\n",
    "    print('-'*50)"
   ]
  },
  {
   "cell_type": "code",
   "execution_count": 63,
   "metadata": {},
   "outputs": [
    {
     "name": "stdout",
     "output_type": "stream",
     "text": [
      "*\n",
      "**\n",
      "***\n",
      "****\n",
      "*****\n"
     ]
    }
   ],
   "source": [
    "# Q 4-7. 별표(*)로 특정 형태 만들기 1\n",
    "for i in range(1, 6):\n",
    "    print('*'*i)"
   ]
  },
  {
   "cell_type": "code",
   "execution_count": 65,
   "metadata": {},
   "outputs": [
    {
     "name": "stdout",
     "output_type": "stream",
     "text": [
      "*\n",
      "**\n",
      "***\n",
      "****\n",
      "*****\n"
     ]
    }
   ],
   "source": [
    "for i in range(1, 6):\n",
    "    for k in range(1, i+1):\n",
    "        print('*', end = '')\n",
    "    print()"
   ]
  },
  {
   "cell_type": "code",
   "execution_count": 66,
   "metadata": {},
   "outputs": [
    {
     "name": "stdout",
     "output_type": "stream",
     "text": [
      "    *\n",
      "   **\n",
      "  ***\n",
      " ****\n",
      "*****\n"
     ]
    }
   ],
   "source": [
    "# Q 4-8. 별표(*)로 특정 형태 만들기 2\n",
    "for i in range(1, 6):\n",
    "    for s in range(1, 5-i+1):\n",
    "        print(' ', end = '')\n",
    "    for k in range(1, i+1):\n",
    "        print('*', end = '')\n",
    "    print()"
   ]
  },
  {
   "cell_type": "code",
   "execution_count": 68,
   "metadata": {},
   "outputs": [
    {
     "name": "stdout",
     "output_type": "stream",
     "text": [
      "    *\n",
      "   **\n",
      "  ***\n",
      " ****\n",
      "*****\n"
     ]
    }
   ],
   "source": [
    "for i in range(1, 6):\n",
    "    for s in range(5, i, -1):\n",
    "        print(' ', end = '')\n",
    "    for k in range(1, i+1):\n",
    "        print('*', end = '')\n",
    "    print()"
   ]
  },
  {
   "cell_type": "code",
   "execution_count": 72,
   "metadata": {},
   "outputs": [
    {
     "name": "stdout",
     "output_type": "stream",
     "text": [
      "44 990\n"
     ]
    }
   ],
   "source": [
    "# 합이 1000에 가장 가까운 경우는 1에서부터 얼마까지 더한 경우인가?\n",
    "sum = 0\n",
    "count = 1\n",
    "while True:\n",
    "    sum += count\n",
    "    if sum > 1000:\n",
    "        break\n",
    "    count += 1\n",
    "print(count-1, sum-count)"
   ]
  },
  {
   "cell_type": "code",
   "execution_count": 76,
   "metadata": {},
   "outputs": [
    {
     "name": "stdout",
     "output_type": "stream",
     "text": [
      "i = 0 : \n",
      "i = 1 : 0 \n",
      "i = 2 : 0 1 \n",
      "i = 3 : 0 1 2 \n",
      "i = 4 : 0 1 2 3 \n"
     ]
    }
   ],
   "source": [
    "# 중첩해서 break\n",
    "for i in range(5):\n",
    "    print('i =', i, ':', end = ' ')\n",
    "    for k in range(5):\n",
    "        if k == i:\n",
    "            break;\n",
    "        print(k, end = ' ')\n",
    "    print()"
   ]
  },
  {
   "cell_type": "code",
   "execution_count": 78,
   "metadata": {},
   "outputs": [
    {
     "name": "stdout",
     "output_type": "stream",
     "text": [
      "3\n",
      "2 2\n",
      "1.0\n",
      "1 5\n",
      "2880.0\n",
      "5 1\n"
     ]
    },
    {
     "ename": "ValueError",
     "evalue": "factorial() not defined for negative values",
     "output_type": "error",
     "traceback": [
      "\u001b[1;31m---------------------------------------------------------------------------\u001b[0m",
      "\u001b[1;31mValueError\u001b[0m                                Traceback (most recent call last)",
      "\u001b[1;32m<ipython-input-78-5175d178320d>\u001b[0m in \u001b[0;36m<module>\u001b[1;34m\u001b[0m\n\u001b[0;32m      3\u001b[0m \u001b[1;32mfor\u001b[0m \u001b[0mi\u001b[0m \u001b[1;32min\u001b[0m \u001b[0mrange\u001b[0m\u001b[1;33m(\u001b[0m\u001b[0mnum\u001b[0m\u001b[1;33m)\u001b[0m\u001b[1;33m:\u001b[0m\u001b[1;33m\u001b[0m\u001b[1;33m\u001b[0m\u001b[0m\n\u001b[0;32m      4\u001b[0m     \u001b[0ma\u001b[0m\u001b[1;33m,\u001b[0m \u001b[0mb\u001b[0m \u001b[1;33m=\u001b[0m \u001b[0mmap\u001b[0m\u001b[1;33m(\u001b[0m\u001b[0mint\u001b[0m\u001b[1;33m,\u001b[0m \u001b[0minput\u001b[0m\u001b[1;33m(\u001b[0m\u001b[1;33m)\u001b[0m\u001b[1;33m.\u001b[0m\u001b[0msplit\u001b[0m\u001b[1;33m(\u001b[0m\u001b[1;33m)\u001b[0m\u001b[1;33m)\u001b[0m\u001b[1;33m\u001b[0m\u001b[1;33m\u001b[0m\u001b[0m\n\u001b[1;32m----> 5\u001b[1;33m     \u001b[0mprint\u001b[0m\u001b[1;33m(\u001b[0m\u001b[0mmath\u001b[0m\u001b[1;33m.\u001b[0m\u001b[0mfactorial\u001b[0m\u001b[1;33m(\u001b[0m\u001b[0mb\u001b[0m\u001b[1;33m)\u001b[0m\u001b[1;33m/\u001b[0m\u001b[0mmath\u001b[0m\u001b[1;33m.\u001b[0m\u001b[0mfactorial\u001b[0m\u001b[1;33m(\u001b[0m\u001b[0ma\u001b[0m\u001b[1;33m)\u001b[0m\u001b[1;33m*\u001b[0m\u001b[0mmath\u001b[0m\u001b[1;33m.\u001b[0m\u001b[0mfactorial\u001b[0m\u001b[1;33m(\u001b[0m\u001b[0mb\u001b[0m\u001b[1;33m-\u001b[0m\u001b[0ma\u001b[0m\u001b[1;33m)\u001b[0m\u001b[1;33m)\u001b[0m\u001b[1;33m\u001b[0m\u001b[1;33m\u001b[0m\u001b[0m\n\u001b[0m",
      "\u001b[1;31mValueError\u001b[0m: factorial() not defined for negative values"
     ]
    }
   ],
   "source": [
    "import math\n",
    "num = int(input())\n",
    "for i in range(num):\n",
    "    a, b = map(int, input().split())\n",
    "    print(math.factorial(b)/math.factorial(a)*math.factorial(b-a))"
   ]
  },
  {
   "cell_type": "code",
   "execution_count": null,
   "metadata": {},
   "outputs": [],
   "source": []
  }
 ],
 "metadata": {
  "kernelspec": {
   "display_name": "Python 3",
   "language": "python",
   "name": "python3"
  },
  "language_info": {
   "codemirror_mode": {
    "name": "ipython",
    "version": 3
   },
   "file_extension": ".py",
   "mimetype": "text/x-python",
   "name": "python",
   "nbconvert_exporter": "python",
   "pygments_lexer": "ipython3",
   "version": "3.7.6"
  }
 },
 "nbformat": 4,
 "nbformat_minor": 4
}
