{
 "cells": [
  {
   "cell_type": "markdown",
   "metadata": {},
   "source": [
    "# 6장 연습문제"
   ]
  },
  {
   "cell_type": "code",
   "execution_count": 1,
   "metadata": {},
   "outputs": [],
   "source": [
    "db = dict(kim99 = 12000, lee66 = 11000, han55 = 3000, hong77 = 5000, hwang33 = 18000)"
   ]
  },
  {
   "cell_type": "code",
   "execution_count": 3,
   "metadata": {},
   "outputs": [
    {
     "name": "stdout",
     "output_type": "stream",
     "text": [
      "1. 아이디: kim99, 마일리지: 12000점\n",
      "\n",
      "2. 아이디: lee66, 마일리지: 11000점\n",
      "\n",
      "3. 아이디: han55, 마일리지: 3000점\n",
      "\n",
      "4. 아이디: hong77, 마일리지: 5000점\n",
      "\n",
      "5. 아이디: hwang33, 마일리지: 18000점\n",
      "\n"
     ]
    }
   ],
   "source": [
    "# Q1. ex1\n",
    "num = 1\n",
    "for key, val in db.items():\n",
    "    print('%d. 아이디: %s, 마일리지: %s점\\n' %(num, key, val))\n",
    "    num += 1"
   ]
  },
  {
   "cell_type": "code",
   "execution_count": 24,
   "metadata": {},
   "outputs": [
    {
     "name": "stdout",
     "output_type": "stream",
     "text": [
      "전체 딕셔너리: {'kim99': 12000, 'lee66': 11000, 'han55': 3000, 'hong77': 5000, 'hwang33': 18000, 'jang88': 7000}\n",
      "\n",
      "jang88님의 마일리지(7000점)가 추가 되었습니다.\n"
     ]
    }
   ],
   "source": [
    "# Q3. ex3\n",
    "db['jang88'] = 7000\n",
    "print('전체 딕셔너리: ' + str(db) + '\\n')\n",
    "print('%s님의 마일리지(%s점)가 추가 되었습니다.' %(list(db.keys())[-1], list(db.values())[-1]))\n"
   ]
  },
  {
   "cell_type": "code",
   "execution_count": 26,
   "metadata": {},
   "outputs": [],
   "source": [
    "day = dict(월 = 25.5, 화 = 28.3, 수 = 33.2, 목 = 32.1, 금 = 17.3, 토 = 35.3, 일 = 33.3)"
   ]
  },
  {
   "cell_type": "code",
   "execution_count": 39,
   "metadata": {},
   "outputs": [
    {
     "name": "stdout",
     "output_type": "stream",
     "text": [
      "------------------------------\n",
      "    월    화    수    목    금    토    일\n",
      "------------------------------\n",
      "  25.5  28.3  33.2  32.1  17.3  35.3  33.3"
     ]
    }
   ],
   "source": [
    "# Q5. ex5\n",
    "print('-'*30)\n",
    "for key in day:\n",
    "    print('%5s' %key, end = '')\n",
    "print()\n",
    "print('-'*30)\n",
    "for key, val in day.items():\n",
    "    print('%6s' %val, end = '')"
   ]
  },
  {
   "cell_type": "code",
   "execution_count": 46,
   "metadata": {},
   "outputs": [
    {
     "name": "stdout",
     "output_type": "stream",
     "text": [
      "기온이 30 이상인 요일: ['수', '목', '토', '일']\n"
     ]
    }
   ],
   "source": [
    "# Q7. ex7\n",
    "num = []\n",
    "for key, val in day.items():\n",
    "    if val > 30:\n",
    "        num.append(key)\n",
    "print('기온이 30 이상인 요일: ' + str(num))"
   ]
  },
  {
   "cell_type": "code",
   "execution_count": null,
   "metadata": {},
   "outputs": [],
   "source": []
  },
  {
   "cell_type": "code",
   "execution_count": null,
   "metadata": {},
   "outputs": [],
   "source": []
  },
  {
   "cell_type": "code",
   "execution_count": null,
   "metadata": {},
   "outputs": [],
   "source": []
  },
  {
   "cell_type": "code",
   "execution_count": null,
   "metadata": {},
   "outputs": [],
   "source": []
  }
 ],
 "metadata": {
  "kernelspec": {
   "display_name": "Python 3",
   "language": "python",
   "name": "python3"
  },
  "language_info": {
   "codemirror_mode": {
    "name": "ipython",
    "version": 3
   },
   "file_extension": ".py",
   "mimetype": "text/x-python",
   "name": "python",
   "nbconvert_exporter": "python",
   "pygments_lexer": "ipython3",
   "version": "3.7.6"
  }
 },
 "nbformat": 4,
 "nbformat_minor": 4
}
