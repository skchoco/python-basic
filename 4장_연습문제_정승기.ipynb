{
 "cells": [
  {
   "cell_type": "markdown",
   "metadata": {},
   "source": [
    "# 4장 연습문제"
   ]
  },
  {
   "cell_type": "code",
   "execution_count": 19,
   "metadata": {},
   "outputs": [
    {
     "name": "stdout",
     "output_type": "stream",
     "text": [
      "**********\n",
      "**********\n",
      "**********\n",
      "**********\n",
      "**********\n"
     ]
    }
   ],
   "source": [
    "# ex. 1\n",
    "for i in range(5):\n",
    "    for i in range(10):\n",
    "        print('*', end='')\n",
    "    print()"
   ]
  },
  {
   "cell_type": "code",
   "execution_count": 18,
   "metadata": {},
   "outputs": [
    {
     "name": "stdout",
     "output_type": "stream",
     "text": [
      "**********\n",
      "**********\n",
      "**********\n",
      "**********\n",
      "**********\n"
     ]
    }
   ],
   "source": [
    "# ex. 2\n",
    "i = 0\n",
    "while i < 5:\n",
    "    k = 0\n",
    "    while k < 10:\n",
    "        print('*', end = '')\n",
    "        k += 1\n",
    "    i += 1\n",
    "    print()"
   ]
  },
  {
   "cell_type": "code",
   "execution_count": 26,
   "metadata": {},
   "outputs": [
    {
     "name": "stdout",
     "output_type": "stream",
     "text": [
      "666666\n",
      "55555\n",
      "4444\n",
      "333\n",
      "22\n",
      "1\n"
     ]
    }
   ],
   "source": [
    "# ex. 3\n",
    "for i in range(6, 0, -1):\n",
    "    for k in range(i, 0, -1):\n",
    "        print(i, end = '')\n",
    "    print()"
   ]
  },
  {
   "cell_type": "code",
   "execution_count": 27,
   "metadata": {},
   "outputs": [
    {
     "name": "stdout",
     "output_type": "stream",
     "text": [
      "\n",
      "0\n",
      "01\n",
      "012\n",
      "0123\n",
      "01234\n",
      "012345\n"
     ]
    }
   ],
   "source": [
    "# ex. 4\n",
    "for i in range(0, 7):\n",
    "    for k in range(i):\n",
    "        print(k, end = '')\n",
    "    print()"
   ]
  },
  {
   "cell_type": "code",
   "execution_count": 67,
   "metadata": {},
   "outputs": [
    {
     "name": "stdout",
     "output_type": "stream",
     "text": [
      "* * * * * * * * * \n",
      "*               * \n",
      "*               * \n",
      "*               * \n",
      "*               * \n",
      "*               * \n",
      "*               * \n",
      "*               * \n",
      "* * * * * * * * * \n"
     ]
    }
   ],
   "source": [
    "# ex. 5\n",
    "for i in range(9):\n",
    "    if i == 0 or i == 8:\n",
    "        for k in range(9):\n",
    "            print('*', end = ' ')\n",
    "    else:\n",
    "        print('*', end = ' ')\n",
    "        for k in range(7):\n",
    "            print(' ', end = ' ')\n",
    "        print('*', end = ' ')\n",
    "    print()"
   ]
  },
  {
   "cell_type": "code",
   "execution_count": 56,
   "metadata": {},
   "outputs": [
    {
     "name": "stdout",
     "output_type": "stream",
     "text": [
      "1 + 3 + 5 + 7 + 9 + 11 + 13 + 15 + 17 + 19 + 21 + 23 + 25 + 27 + 29 + 31 + 33 + 35 + 37 + 39 + 41 + 43 + 45 + 47 + 49 + 51 + 53 + 55 + 57 + 59 + 61 + 63 + 65 + 67 + 69 + 71 + 73 + 75 + 77 + 79 + 81 + 83 + 85 + 87 + 89 + 91 + 93 + 95 + 97 + 99 + = 2500\n"
     ]
    }
   ],
   "source": [
    "# ex. 6\n",
    "i = 0\n",
    "sum = 0\n",
    "while i < 100:\n",
    "    if i % 2 == 1:\n",
    "        print('%d + '%i, end = '')\n",
    "        sum += i\n",
    "    i += 1\n",
    "print('= %d' %sum)"
   ]
  },
  {
   "cell_type": "code",
   "execution_count": 76,
   "metadata": {},
   "outputs": [
    {
     "name": "stdout",
     "output_type": "stream",
     "text": [
      "N의 값을 입력하세요: 12\n",
      "N의 값: 12\n",
      "합계: 15524694038166164674661959842\n"
     ]
    }
   ],
   "source": [
    "# ex. 7\n",
    "n = int(input('N의 값을 입력하세요: '))\n",
    "print('N의 값: %d' %n)\n",
    "result = 0\n",
    "for i in range(2, 2*n, 2):\n",
    "    result += i**(i-1)\n",
    "print('합계: %d' %result)"
   ]
  },
  {
   "cell_type": "code",
   "execution_count": 78,
   "metadata": {},
   "outputs": [
    {
     "name": "stdout",
     "output_type": "stream",
     "text": [
      "N 값을 입력해주세요: 200\n",
      "2 3 5 7 11 13 17 19 23 29 31 37 41 43 47 53 59 61 67 71 73 79 83 89 97 101 103 107 109 113 127 131 137 139 149 151 157 163 167 173 179 181 191 193 197 199 "
     ]
    }
   ],
   "source": [
    "# ex. 8\n",
    "n = int(input('N 값을 입력해주세요: '))\n",
    "\n",
    "for i in range(2, n):\n",
    "    num = True\n",
    "    for j in range(2, i):\n",
    "        if i%j == 0:\n",
    "            num = False\n",
    "            break\n",
    "    if num:\n",
    "        print(i, end = ' ')"
   ]
  },
  {
   "cell_type": "code",
   "execution_count": 88,
   "metadata": {},
   "outputs": [
    {
     "name": "stdout",
     "output_type": "stream",
     "text": [
      "------------------------------\n",
      "달러($)  원화(원)  유로(€)\n",
      "------------------------------\n",
      " 10       10800      8.1\n",
      " 20       21600     16.2\n",
      " 30       32400     24.3\n",
      " 40       43200     32.4\n",
      " 50       54000     40.5\n",
      " 60       64800     48.6\n",
      " 70       75600     56.7\n",
      " 80       86400     64.8\n",
      " 90       97200     72.9\n",
      "100      108000     81.0\n",
      "------------------------------\n"
     ]
    }
   ],
   "source": [
    "print('-'*30)\n",
    "print('달러($)  원화(원)  유로(€)')\n",
    "print('-'*30)\n",
    "for i in range(10, 101, 10):\n",
    "    w = i * 1080\n",
    "    u = i * 0.81\n",
    "    print('%3d%12d%9.1f'%(i, w, u))\n",
    "print('-'*30)"
   ]
  },
  {
   "cell_type": "code",
   "execution_count": 96,
   "metadata": {
    "scrolled": true
   },
   "outputs": [
    {
     "name": "stdout",
     "output_type": "stream",
     "text": [
      "------------------------------\n",
      "cm   mm    m    inch\n",
      "------------------------------\n",
      "1   10    0.01    0.39\n",
      "3   30    0.03    1.18\n",
      "5   50    0.05    1.97\n",
      "7   70    0.07    2.76\n",
      "9   90    0.09    3.54\n",
      "11  110    0.11    4.33\n",
      "13  130    0.13    5.12\n",
      "15  150    0.15    5.91\n",
      "17  170    0.17    6.69\n",
      "19  190    0.19    7.48\n",
      "21  210    0.21    8.27\n",
      "23  230    0.23    9.06\n",
      "25  250    0.25    9.84\n",
      "27  270    0.27   10.63\n",
      "29  290    0.29   11.42\n",
      "31  310    0.31   12.20\n",
      "33  330    0.33   12.99\n",
      "35  350    0.35   13.78\n",
      "37  370    0.37   14.57\n",
      "39  390    0.39   15.35\n",
      "41  410    0.41   16.14\n",
      "43  430    0.43   16.93\n",
      "45  450    0.45   17.72\n",
      "47  470    0.47   18.50\n",
      "49  490    0.49   19.29\n",
      "51  510    0.51   20.08\n",
      "53  530    0.53   20.87\n",
      "55  550    0.55   21.65\n",
      "57  570    0.57   22.44\n",
      "59  590    0.59   23.23\n",
      "61  610    0.61   24.02\n",
      "63  630    0.63   24.80\n",
      "65  650    0.65   25.59\n",
      "67  670    0.67   26.38\n",
      "69  690    0.69   27.17\n",
      "71  710    0.71   27.95\n",
      "73  730    0.73   28.74\n",
      "75  750    0.75   29.53\n",
      "77  770    0.77   30.31\n",
      "79  790    0.79   31.10\n",
      "81  810    0.81   31.89\n",
      "83  830    0.83   32.68\n",
      "85  850    0.85   33.46\n",
      "87  870    0.87   34.25\n",
      "89  890    0.89   35.04\n",
      "91  910    0.91   35.83\n",
      "93  930    0.93   36.61\n",
      "95  950    0.95   37.40\n",
      "97  970    0.97   38.19\n",
      "99  990    0.99   38.98\n",
      "------------------------------\n"
     ]
    }
   ],
   "source": [
    "print('-'*30)\n",
    "print('cm   mm    m    inch')\n",
    "print('-'*30)\n",
    "for i in range(1, 100, 2):\n",
    "    mm = i * 10\n",
    "    m = i * 0.01\n",
    "    inch = i * 0.3937\n",
    "    print('%d%5d%8.2f%8.2f'%(i, mm, m, inch))\n",
    "print('-'*30)"
   ]
  },
  {
   "cell_type": "code",
   "execution_count": null,
   "metadata": {},
   "outputs": [],
   "source": []
  }
 ],
 "metadata": {
  "kernelspec": {
   "display_name": "Python 3",
   "language": "python",
   "name": "python3"
  },
  "language_info": {
   "codemirror_mode": {
    "name": "ipython",
    "version": 3
   },
   "file_extension": ".py",
   "mimetype": "text/x-python",
   "name": "python",
   "nbconvert_exporter": "python",
   "pygments_lexer": "ipython3",
   "version": "3.7.6"
  }
 },
 "nbformat": 4,
 "nbformat_minor": 4
}
