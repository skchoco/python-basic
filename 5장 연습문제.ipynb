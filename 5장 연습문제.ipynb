{
 "cells": [
  {
   "cell_type": "markdown",
   "metadata": {},
   "source": [
    "# 5장 연습문제"
   ]
  },
  {
   "cell_type": "code",
   "execution_count": 1,
   "metadata": {},
   "outputs": [],
   "source": [
    "data = [-12, 3, -9, 5, 8, -2, 0, -8, 3, 10]"
   ]
  },
  {
   "cell_type": "code",
   "execution_count": 2,
   "metadata": {},
   "outputs": [
    {
     "name": "stdout",
     "output_type": "stream",
     "text": [
      "10\n"
     ]
    }
   ],
   "source": [
    "# ex 1\n",
    "\n",
    "large = data[0]\n",
    "for i in data:\n",
    "    if i > large:\n",
    "        large = i\n",
    "print(large)"
   ]
  },
  {
   "cell_type": "code",
   "execution_count": 3,
   "metadata": {},
   "outputs": [
    {
     "name": "stdout",
     "output_type": "stream",
     "text": [
      "합계: 8, 평균: 1.60\n"
     ]
    }
   ],
   "source": [
    "# ex 2\n",
    "i = 0\n",
    "sum = 0\n",
    "count = 0\n",
    "while i < len(data):\n",
    "    if i % 2 == 1:\n",
    "        sum += data[i]\n",
    "        count += 1\n",
    "    i += 1\n",
    "avg = sum/count\n",
    "print('합계: %d, 평균: %.2f' %(sum, avg))"
   ]
  },
  {
   "cell_type": "code",
   "execution_count": 4,
   "metadata": {},
   "outputs": [
    {
     "data": {
      "text/plain": [
       "[10, 8, 5, 3, 3, 0, -2, -8, -9, -12]"
      ]
     },
     "execution_count": 4,
     "metadata": {},
     "output_type": "execute_result"
    }
   ],
   "source": [
    "# ex 3\n",
    "data = [-12, 3, -9, 5, 8, -2, 0, -8, 3, 10]\n",
    "data.sort(reverse = True)\n",
    "data"
   ]
  },
  {
   "cell_type": "code",
   "execution_count": 5,
   "metadata": {},
   "outputs": [
    {
     "data": {
      "text/plain": [
       "[-12, 3, -9, 100, 5, 8, -2, 0, -8, 3, 10]"
      ]
     },
     "execution_count": 5,
     "metadata": {},
     "output_type": "execute_result"
    }
   ],
   "source": [
    "data = [-12, 3, -9, 5, 8, -2, 0, -8, 3, 10]\n",
    "data.insert(3, 100)\n",
    "data"
   ]
  },
  {
   "cell_type": "code",
   "execution_count": 6,
   "metadata": {},
   "outputs": [
    {
     "data": {
      "text/plain": [
       "[3, -9, 5, 8, -2, 0, -8, 3, 10]"
      ]
     },
     "execution_count": 6,
     "metadata": {},
     "output_type": "execute_result"
    }
   ],
   "source": [
    "data = [-12, 3, -9, 5, 8, -2, 0, -8, 3, 10]\n",
    "data.remove(-12)\n",
    "data"
   ]
  },
  {
   "cell_type": "code",
   "execution_count": 7,
   "metadata": {},
   "outputs": [],
   "source": [
    "stone = [[0, 0, 0, 0, 0, 0, 0, 0, 0],\n",
    "         [0, 1, 0, 1, 2, 1, 2, 1, 0],\n",
    "         [0, 2, 1, 1, 1, 2, 2, 0, 0],\n",
    "         [0, 0, 2, 2, 2, 1, 0, 2, 0],\n",
    "         [0, 0, 0, 0, 0, 1, 0, 2, 1],\n",
    "         [0, 0, 0, 2, 0, 1, 2, 1, 0],\n",
    "         [0, 0, 0, 2, 1, 0, 1, 1, 0],\n",
    "         [0, 0, 0, 1, 1, 0, 0, 0, 0],\n",
    "         [0, 0, 0, 0, 2, 2, 2, 0, 0]]"
   ]
  },
  {
   "cell_type": "code",
   "execution_count": 2,
   "metadata": {},
   "outputs": [
    {
     "name": "stdout",
     "output_type": "stream",
     "text": [
      "흑돌의 개수: 17\n",
      "백돌의 개수: 16\n"
     ]
    }
   ],
   "source": [
    "# ex 6\n",
    "white = 0\n",
    "black = 0\n",
    "for i in range(len(stone)):\n",
    "    for k in range(len(stone[i])):\n",
    "        if stone[i][k] == 1:\n",
    "            white += 1\n",
    "        if stone[i][k] == 2:\n",
    "            black += 1\n",
    "print('흑돌의 개수: %d\\n백돌의 개수: %d'%(white, black))"
   ]
  },
  {
   "cell_type": "code",
   "execution_count": 4,
   "metadata": {},
   "outputs": [
    {
     "data": {
      "text/plain": [
       "[['X', 'X', 'X', 'X', 'X', 'X', 'X', 'X', 'X'],\n",
       " ['X', '●', 'X', '●', '○', '●', '○', '●', 'X'],\n",
       " ['X', '○', '●', '●', '●', '○', '○', 'X', 'X'],\n",
       " ['X', 'X', '○', '○', '○', '●', 'X', '○', 'X'],\n",
       " ['X', 'X', 'X', 'X', 'X', '●', 'X', '○', '●'],\n",
       " ['X', 'X', 'X', '○', 'X', '●', '○', '●', 'X'],\n",
       " ['X', 'X', 'X', '○', '●', 'X', '●', '●', 'X'],\n",
       " ['X', 'X', 'X', '●', '●', 'X', 'X', 'X', 'X'],\n",
       " ['X', 'X', 'X', 'X', '○', '○', '○', 'X', 'X']]"
      ]
     },
     "execution_count": 4,
     "metadata": {},
     "output_type": "execute_result"
    }
   ],
   "source": [
    "for i in range(len(stone)):\n",
    "    for k in range(len(stone[i])):\n",
    "        if stone[i][k] == 0:\n",
    "            stone[i][k] = 'X'\n",
    "        if stone[i][k] == 1:\n",
    "            stone[i][k] = '●'\n",
    "        if stone[i][k] == 2:\n",
    "            stone[i][k] = '○'\n",
    "stone"
   ]
  },
  {
   "cell_type": "code",
   "execution_count": 5,
   "metadata": {},
   "outputs": [
    {
     "name": "stdout",
     "output_type": "stream",
     "text": [
      "  1 2 3 4 5 6 7 8 9 \n",
      "1 X X X X X X X X X \n",
      "2 X ● X ● ○ ● ○ ● X \n",
      "3 X ○ ● ● ● ○ ○ X X \n",
      "4 X X ○ ○ ○ ● X ○ X \n",
      "5 X X X X X ● X ○ ● \n",
      "6 X X X ○ X ● ○ ● X \n",
      "7 X X X ○ ● X ● ● X \n",
      "8 X X X ● ● X X X X \n",
      "9 X X X X ○ ○ ○ X X \n"
     ]
    }
   ],
   "source": [
    "col = [' ',1,2,3,4,5,6,7,8,9]\n",
    "row = [1,2,3,4,5,6,7,8,9]\n",
    "\n",
    "for i in range(len(stone)):\n",
    "        stone[i].insert(0, row[i])\n",
    "\n",
    "stone.insert(0, col)\n",
    "\n",
    "for i in range(len(stone)):\n",
    "    for j in range(len(stone[i])):\n",
    "        print(stone[i][j], end = ' ')\n",
    "    print()"
   ]
  },
  {
   "cell_type": "code",
   "execution_count": 6,
   "metadata": {},
   "outputs": [
    {
     "name": "stdout",
     "output_type": "stream",
     "text": [
      "X 좌표값을 입력해주세요(1 ~ 9, 종료 시 -1 입력): 9\n",
      "Y 좌표값을 입력해주세요(1 ~ 9, 종료 시 -1 입력): 5\n",
      "흑돌\n",
      "X 좌표값을 입력해주세요(1 ~ 9, 종료 시 -1 입력): 7\n",
      "Y 좌표값을 입력해주세요(1 ~ 9, 종료 시 -1 입력): 2\n",
      "백돌\n",
      "X 좌표값을 입력해주세요(1 ~ 9, 종료 시 -1 입력): 4\n",
      "Y 좌표값을 입력해주세요(1 ~ 9, 종료 시 -1 입력): 1\n",
      "돌 없음\n",
      "X 좌표값을 입력해주세요(1 ~ 9, 종료 시 -1 입력): -1\n",
      "종료되었습니다!\n"
     ]
    }
   ],
   "source": [
    "while True:\n",
    "    x = int(input('X 좌표값을 입력해주세요(1 ~ 9, 종료 시 -1 입력): '))\n",
    "    if x == -1:\n",
    "        print('종료되었습니다!')\n",
    "        break\n",
    "    y = int(input('Y 좌표값을 입력해주세요(1 ~ 9, 종료 시 -1 입력): '))\n",
    "    if y == -1:\n",
    "        print('종료되었습니다!')\n",
    "        break\n",
    "\n",
    "    if stone[y][x] == \"●\":\n",
    "        print('흑돌')\n",
    "    elif stone[y][x] == \"○\":\n",
    "        print('백돌')\n",
    "    else:\n",
    "        print('돌 없음')"
   ]
  },
  {
   "cell_type": "code",
   "execution_count": null,
   "metadata": {},
   "outputs": [],
   "source": []
  }
 ],
 "metadata": {
  "kernelspec": {
   "display_name": "Python 3",
   "language": "python",
   "name": "python3"
  },
  "language_info": {
   "codemirror_mode": {
    "name": "ipython",
    "version": 3
   },
   "file_extension": ".py",
   "mimetype": "text/x-python",
   "name": "python",
   "nbconvert_exporter": "python",
   "pygments_lexer": "ipython3",
   "version": "3.7.6"
  }
 },
 "nbformat": 4,
 "nbformat_minor": 4
}
